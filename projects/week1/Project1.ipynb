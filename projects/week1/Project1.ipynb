{
 "cells": [
  {
   "cell_type": "markdown",
   "id": "7c46acd1-9676-43da-b7ea-c6f41cf27616",
   "metadata": {},
   "source": [
    "Connecting to the OpenAI"
   ]
  },
  {
   "cell_type": "code",
   "execution_count": null,
   "id": "b57b99d5-34b7-428f-8b9f-56d3249b0b60",
   "metadata": {},
   "outputs": [],
   "source": [
    "# imports\n",
    "\n",
    "import os\n",
    "import requests\n",
    "from  dotenv import load_dotenv\n",
    "from bs4 import BeautifulSoup\n",
    "from IPython.display import Markdown, display\n",
    "from openai import OpenAI"
   ]
  },
  {
   "cell_type": "code",
   "execution_count": null,
   "id": "1f8818cd-f422-44aa-b22f-a103df819e91",
   "metadata": {},
   "outputs": [],
   "source": [
    "# load the environment variables from the .env file\n",
    "\n",
    "load_dotenv(override=True)\n",
    "api_key = os.getenv('OPENAI_API_KEY')\n",
    "\n",
    "# Check the key\n",
    "\n",
    "if not api_key:\n",
    "    print(\"No API key was found - please head over to the troubleshooting notebook in this folder to identify & fix!\")\n",
    "elif not api_key.startswith(\"sk-proj-\"):\n",
    "    print(\"An API key was found, but it doesn't start sk-proj-; please check you're using the right key - see troubleshooting noteboo\")\n",
    "elif api_key.strip() != api_key:\n",
    "    print(\"An API key was found, but it looks like it might have space or tab characters at the start or end - please remove them - see troubleshooting notebook\")\n",
    "else:\n",
    "    print(\"API key found and looks good so far!\")"
   ]
  },
  {
   "cell_type": "code",
   "execution_count": null,
   "id": "fe44f891-42f5-42b4-86a1-518460b43e03",
   "metadata": {},
   "outputs": [],
   "source": [
    "openai = OpenAI()\n",
    "\n",
    "# If this doesn't work, try Kernal menu >> Restart Kernel and Clear Outputs Of All Cells, then run the cells from the top of this notebook down.\n",
    "# If it STILL doesn't work (horrors!) then please see the Troubleshooting notebook in this folder for full instructions."
   ]
  },
  {
   "cell_type": "code",
   "execution_count": null,
   "id": "e68500ce-d7d9-46cd-b919-ccec616ac190",
   "metadata": {},
   "outputs": [],
   "source": [
    "# To give upu a preview  -- callig OpenAI with these messages is this easy. \n",
    "\n",
    "# Some websites need you to use proper headers when fetching them:\n",
    "\n",
    "headers = {\n",
    "    \"User-Agent\": \"MOzilla/5.0 (Windows NT 10.0; Win64; x64) AppleWebKit/537.36 (KHTML, like Gecko) Chrome//117.0.0.0 Safari/537.36\"\n",
    "}\n",
    "\n",
    "class Website:\n",
    "\n",
    "    def __init__(self, url):\n",
    "        \"\"\"\n",
    "        Create this Website object from the given url using the BeautifulSoup library\n",
    "        \"\"\"\n",
    "        self.url = url\n",
    "        response = requests.get(url, headers=headers)\n",
    "        soup = BeautifulSoup(response.content, 'html.parser')\n",
    "        self.title = soup.title.string if soup.title else \"No title found\"\n",
    "        for irrelevant in soup.body([\"script\", \"style\", \"img\", \"input\"]):\n",
    "            irrelevant.decompose()\n",
    "        self.text = soup.body.get_text(separator=\"\\n\", strip=True)"
   ]
  },
  {
   "cell_type": "code",
   "execution_count": null,
   "id": "7a835538-f6c6-472e-9298-89c5a9b1f5c4",
   "metadata": {},
   "outputs": [],
   "source": [
    "# lets try one out. Change the website and add print statements to follow along.\n",
    "\n",
    "cnn = Website(\"https://www.cnn.com/\")\n",
    "print(cnn.title)\n",
    "print(cnn.text)"
   ]
  },
  {
   "cell_type": "markdown",
   "id": "87b7ce23-8c31-44a9-8ec6-70385189d79c",
   "metadata": {},
   "source": [
    "#Type of prompts:\n",
    "\n",
    "#A system prompt that tells them what task they are performimg and what tone they should use\n",
    "\n",
    "#A user prompt -- the conversation starter that they should reply to\n"
   ]
  },
  {
   "cell_type": "code",
   "execution_count": null,
   "id": "b5d196c1-e196-45c5-8a3f-7f97fdfa554d",
   "metadata": {},
   "outputs": [],
   "source": [
    "# Define our system prompt \n",
    "system_prompt = \"You are an assistent that analyze the contents of a website \\\n",
    "and provide a short summary, ignoring text that might be navigation related. \\\n",
    "Respond in markdown in english language\""
   ]
  },
  {
   "cell_type": "code",
   "execution_count": null,
   "id": "10dc82d5-62da-41f2-980e-f58b6ff861a9",
   "metadata": {},
   "outputs": [],
   "source": [
    "# A function that writes a User Prompt that asks for summaries of websites:\n",
    "\n",
    "def user_prompt_for(website):\n",
    "    user_prompt = f\"You are looking at a website titled {website.title}\"\n",
    "    user_prompt += \"\\n The contents of this website is as folows; \\\n",
    "    please provide a short summary of the website in markdown. \\\n",
    "    If it includes news or announcements, then summarize these too. \\n\\n\"\n",
    "    user_prompt += website.text\n",
    "    return user_prompt"
   ]
  },
  {
   "cell_type": "code",
   "execution_count": null,
   "id": "8185e1a1-1303-415f-90ef-7b9256150c41",
   "metadata": {},
   "outputs": [],
   "source": [
    "print(user_prompt_for(cnn))"
   ]
  },
  {
   "cell_type": "code",
   "execution_count": null,
   "id": "f925569f-0a95-4a13-b6d0-996639e8f2b3",
   "metadata": {},
   "outputs": [],
   "source": [
    "messages = [\n",
    "    {\"role\": \"system\", \"content\": \"You are snarky assistant\"},\n",
    "    {\"role\": \"user\", \"content\": \"What is 2 + 2?\"}\n",
    "]"
   ]
  },
  {
   "cell_type": "code",
   "execution_count": null,
   "id": "d3c36ad6-4a90-41c2-81db-c56399212229",
   "metadata": {},
   "outputs": [],
   "source": [
    "# To give you a preview -- calling OpenAI with system and user messages:\n",
    "\n",
    "response = openai.chat.completions.create(model=\"gpt-4o-mini\", messages=messages)\n",
    "print(response.choices[0].message.content)"
   ]
  },
  {
   "cell_type": "code",
   "execution_count": null,
   "id": "cec97b95-e594-4dba-8043-8483630e2901",
   "metadata": {},
   "outputs": [],
   "source": [
    "# See how this function creates exactly the format above\n",
    "\n",
    "def messages_for(website):\n",
    "    return [\n",
    "        {\"role\": \"system\", \"content\": system_prompt},\n",
    "        {\"role\": \"user\", \"content\": user_prompt_for(website)}\n",
    "    ]"
   ]
  },
  {
   "cell_type": "code",
   "execution_count": null,
   "id": "f40fc960-7f7a-4d03-b024-34a1e3b417e9",
   "metadata": {},
   "outputs": [],
   "source": [
    "messages_for(cnn)"
   ]
  },
  {
   "cell_type": "code",
   "execution_count": null,
   "id": "757326f2-892a-4c6c-a352-3bcf0a055781",
   "metadata": {},
   "outputs": [],
   "source": [
    "# And now: call the OpenAI API. You will get very familiar with this!\n",
    "\n",
    "def summarize(url):\n",
    "    website = Website(url)\n",
    "    response = openai.chat.completions.create(\n",
    "        model = \"gpt-4o-mini\",\n",
    "        messages = messages_for(website)\n",
    "    )\n",
    "    return response.choices[0].message.content"
   ]
  },
  {
   "cell_type": "code",
   "execution_count": null,
   "id": "8ca848ca-0aaa-49fd-9cd8-73a5beba28a6",
   "metadata": {},
   "outputs": [],
   "source": [
    "summarize(\"https://www.cnn.com/\")"
   ]
  },
  {
   "cell_type": "code",
   "execution_count": null,
   "id": "c0ed9dce-bbf2-4dae-a39b-449e29e9d136",
   "metadata": {},
   "outputs": [],
   "source": [
    "# A function to display this nicely in the Jupyter output, using markdown\n",
    "\n",
    "def display_summary(url):\n",
    "    summary = summarize(url)\n",
    "    display(Markdown(summary))"
   ]
  },
  {
   "cell_type": "code",
   "execution_count": null,
   "id": "9e55902e-fd3e-4b89-96ad-1584917b97ca",
   "metadata": {},
   "outputs": [],
   "source": [
    "display_summary(\"https://www.cnn.com/\")"
   ]
  },
  {
   "cell_type": "code",
   "execution_count": null,
   "id": "38d3ad82-12fa-4be7-86cf-cd4c60d6b4ac",
   "metadata": {},
   "outputs": [],
   "source": [
    "display_summary(\"https://anthropic.com\")"
   ]
  },
  {
   "cell_type": "code",
   "execution_count": null,
   "id": "6aff7002-2a0c-4004-b5a9-d958eeca3dbc",
   "metadata": {},
   "outputs": [],
   "source": [
    "display_summary(\"https://deccanherald.com\")"
   ]
  },
  {
   "cell_type": "markdown",
   "id": "dda62350-c7f4-4490-a897-185276617ade",
   "metadata": {},
   "source": [
    "**Try new Exercise**"
   ]
  },
  {
   "cell_type": "code",
   "execution_count": null,
   "id": "18bc66eb-9c5a-4af8-942a-faad4cd2a0f3",
   "metadata": {},
   "outputs": [],
   "source": [
    "# Step 1: Create your prompts\n",
    "\n",
    "system_prompt = \"You are a good friend that gives me the information to be a good programmer \\\n",
    "Respond in the markdown.\"\n",
    "user_prompt = \"\"\"\n",
    "    I am a fresh graduate from college completed MS in computer science.\n",
    "    Provide me short summary on the daily activities I need to be a successfull in career.\n",
    "\"\"\"\n",
    "\n",
    "# Step 2: Make the messages list\n",
    "\n",
    "messages = [\n",
    "    {\"role\": \"system\", \"content\": \"You are a good friend and a well wisher\"},\n",
    "    {\"role\": \"user\", \"content\": \"Provide me short summary on the daily activities I need to be a successfull in career\"}\n",
    "] # fill this in\n",
    "\n",
    "# Step 3: Call OpenAI\n",
    "\n",
    "response = openai.chat.completions.create(model=\"gpt-4o-mini\", messages=messages)\n",
    "\n",
    "# Step 4: print the result\n",
    "\n",
    "print(response.choices[0].message.content)"
   ]
  },
  {
   "cell_type": "code",
   "execution_count": null,
   "id": "c5fa9edd-b85a-43a7-a09a-afd68799cf2f",
   "metadata": {},
   "outputs": [],
   "source": []
  }
 ],
 "metadata": {
  "kernelspec": {
   "display_name": "Python 3 (ipykernel)",
   "language": "python",
   "name": "python3"
  },
  "language_info": {
   "codemirror_mode": {
    "name": "ipython",
    "version": 3
   },
   "file_extension": ".py",
   "mimetype": "text/x-python",
   "name": "python",
   "nbconvert_exporter": "python",
   "pygments_lexer": "ipython3",
   "version": "3.11.13"
  }
 },
 "nbformat": 4,
 "nbformat_minor": 5
}
